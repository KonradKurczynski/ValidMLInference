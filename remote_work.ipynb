{
 "cells": [
  {
   "cell_type": "code",
   "execution_count": null,
   "id": "2a046bff",
   "metadata": {},
   "outputs": [],
   "source": [
    "from ValidMLInference import ols, ols_bcm, one_step, load_dataset\n",
    "import pandas as pd\n",
    "import numpy as np\n",
    "from scipy import stats\n",
    "import math"
   ]
  },
  {
   "cell_type": "markdown",
   "id": "4b8a7c5a",
   "metadata": {},
   "source": [
    "### The Dataset"
   ]
  },
  {
   "cell_type": "markdown",
   "id": "b3081088",
   "metadata": {},
   "source": [
    "The package contains a toy slice of a larger dataset regarding work from home, with the following entries:\n",
    "1. `city_name` \n",
    "2. `naics_2022_2` - an industry code \n",
    "3. `id` - unique identifier of the job posting\n",
    "4. `salary` \n",
    "5. `wfh_wham` - ML-generated indicator of whether the job offers work from home \n",
    "6. `soc_2021_2` - Bureau of Labor Statistics Standard Occupational Classification code\n",
    "7. `employment_type_name` - indicates whether the position is full-time or part-time "
   ]
  },
  {
   "cell_type": "code",
   "execution_count": 7,
   "id": "9b384628",
   "metadata": {},
   "outputs": [
    {
     "data": {
      "application/vnd.microsoft.datawrangler.viewer.v0+json": {
       "columns": [
        {
         "name": "index",
         "rawType": "int64",
         "type": "integer"
        },
        {
         "name": "Unnamed: 0",
         "rawType": "int64",
         "type": "integer"
        },
        {
         "name": "city_name",
         "rawType": "object",
         "type": "string"
        },
        {
         "name": "naics_2022_2",
         "rawType": "int64",
         "type": "integer"
        },
        {
         "name": "id",
         "rawType": "object",
         "type": "string"
        },
        {
         "name": "salary",
         "rawType": "float64",
         "type": "float"
        },
        {
         "name": "wfh_wham",
         "rawType": "int64",
         "type": "integer"
        },
        {
         "name": "soc_2021_2",
         "rawType": "object",
         "type": "string"
        },
        {
         "name": "employment_type_name",
         "rawType": "object",
         "type": "string"
        }
       ],
       "ref": "380ffdb9-e1ef-45e0-9e91-832e060ff7ad",
       "rows": [
        [
         "0",
         "1",
         "San Diego, CA",
         "72",
         "002e22ebe1b837ac6b0cebcbb720613138765f51",
         "57500.0",
         "0",
         "11-0000",
         "Full-time (> 32 hours)"
        ],
        [
         "1",
         "2",
         "San Diego, CA",
         "72",
         "00442454060b60c1c0ad4ed78bc29111935f400b",
         "31200.0",
         "0",
         "35-0000",
         "Full-time (> 32 hours)"
        ],
        [
         "2",
         "3",
         "San Diego, CA",
         "72",
         "007a1c1a527ed15006705379cec780aaae4930af",
         "33280.0",
         "0",
         "35-0000",
         "Part-time / full-time"
        ],
        [
         "3",
         "4",
         "San Diego, CA",
         "72",
         "00991b69215b1cc14c08c4cdfa1b10bbbdf6ceba",
         "40560.0",
         "0",
         "35-0000",
         "Full-time (> 32 hours)"
        ],
        [
         "4",
         "5",
         "San Diego, CA",
         "72",
         "00edf6dc0abb731a0befa73f6748ff3f5ce842f4",
         "45760.0",
         "0",
         "11-0000",
         "Full-time (> 32 hours)"
        ]
       ],
       "shape": {
        "columns": 8,
        "rows": 5
       }
      },
      "text/html": [
       "<div>\n",
       "<style scoped>\n",
       "    .dataframe tbody tr th:only-of-type {\n",
       "        vertical-align: middle;\n",
       "    }\n",
       "\n",
       "    .dataframe tbody tr th {\n",
       "        vertical-align: top;\n",
       "    }\n",
       "\n",
       "    .dataframe thead th {\n",
       "        text-align: right;\n",
       "    }\n",
       "</style>\n",
       "<table border=\"1\" class=\"dataframe\">\n",
       "  <thead>\n",
       "    <tr style=\"text-align: right;\">\n",
       "      <th></th>\n",
       "      <th>Unnamed: 0</th>\n",
       "      <th>city_name</th>\n",
       "      <th>naics_2022_2</th>\n",
       "      <th>id</th>\n",
       "      <th>salary</th>\n",
       "      <th>wfh_wham</th>\n",
       "      <th>soc_2021_2</th>\n",
       "      <th>employment_type_name</th>\n",
       "    </tr>\n",
       "  </thead>\n",
       "  <tbody>\n",
       "    <tr>\n",
       "      <th>0</th>\n",
       "      <td>1</td>\n",
       "      <td>San Diego, CA</td>\n",
       "      <td>72</td>\n",
       "      <td>002e22ebe1b837ac6b0cebcbb720613138765f51</td>\n",
       "      <td>57500.0</td>\n",
       "      <td>0</td>\n",
       "      <td>11-0000</td>\n",
       "      <td>Full-time (&gt; 32 hours)</td>\n",
       "    </tr>\n",
       "    <tr>\n",
       "      <th>1</th>\n",
       "      <td>2</td>\n",
       "      <td>San Diego, CA</td>\n",
       "      <td>72</td>\n",
       "      <td>00442454060b60c1c0ad4ed78bc29111935f400b</td>\n",
       "      <td>31200.0</td>\n",
       "      <td>0</td>\n",
       "      <td>35-0000</td>\n",
       "      <td>Full-time (&gt; 32 hours)</td>\n",
       "    </tr>\n",
       "    <tr>\n",
       "      <th>2</th>\n",
       "      <td>3</td>\n",
       "      <td>San Diego, CA</td>\n",
       "      <td>72</td>\n",
       "      <td>007a1c1a527ed15006705379cec780aaae4930af</td>\n",
       "      <td>33280.0</td>\n",
       "      <td>0</td>\n",
       "      <td>35-0000</td>\n",
       "      <td>Part-time / full-time</td>\n",
       "    </tr>\n",
       "    <tr>\n",
       "      <th>3</th>\n",
       "      <td>4</td>\n",
       "      <td>San Diego, CA</td>\n",
       "      <td>72</td>\n",
       "      <td>00991b69215b1cc14c08c4cdfa1b10bbbdf6ceba</td>\n",
       "      <td>40560.0</td>\n",
       "      <td>0</td>\n",
       "      <td>35-0000</td>\n",
       "      <td>Full-time (&gt; 32 hours)</td>\n",
       "    </tr>\n",
       "    <tr>\n",
       "      <th>4</th>\n",
       "      <td>5</td>\n",
       "      <td>San Diego, CA</td>\n",
       "      <td>72</td>\n",
       "      <td>00edf6dc0abb731a0befa73f6748ff3f5ce842f4</td>\n",
       "      <td>45760.0</td>\n",
       "      <td>0</td>\n",
       "      <td>11-0000</td>\n",
       "      <td>Full-time (&gt; 32 hours)</td>\n",
       "    </tr>\n",
       "  </tbody>\n",
       "</table>\n",
       "</div>"
      ],
      "text/plain": [
       "   Unnamed: 0      city_name  naics_2022_2  \\\n",
       "0           1  San Diego, CA            72   \n",
       "1           2  San Diego, CA            72   \n",
       "2           3  San Diego, CA            72   \n",
       "3           4  San Diego, CA            72   \n",
       "4           5  San Diego, CA            72   \n",
       "\n",
       "                                         id   salary  wfh_wham soc_2021_2  \\\n",
       "0  002e22ebe1b837ac6b0cebcbb720613138765f51  57500.0         0    11-0000   \n",
       "1  00442454060b60c1c0ad4ed78bc29111935f400b  31200.0         0    35-0000   \n",
       "2  007a1c1a527ed15006705379cec780aaae4930af  33280.0         0    35-0000   \n",
       "3  00991b69215b1cc14c08c4cdfa1b10bbbdf6ceba  40560.0         0    35-0000   \n",
       "4  00edf6dc0abb731a0befa73f6748ff3f5ce842f4  45760.0         0    11-0000   \n",
       "\n",
       "     employment_type_name  \n",
       "0  Full-time (> 32 hours)  \n",
       "1  Full-time (> 32 hours)  \n",
       "2   Part-time / full-time  \n",
       "3  Full-time (> 32 hours)  \n",
       "4  Full-time (> 32 hours)  "
      ]
     },
     "execution_count": 7,
     "metadata": {},
     "output_type": "execute_result"
    }
   ],
   "source": [
    "SD_data = load_dataset()\n",
    "SD_data.head(5)"
   ]
  },
  {
   "cell_type": "markdown",
   "id": "64bdbc32",
   "metadata": {},
   "source": [
    "For purpose of this estimation, we also log-transform the data. "
   ]
  },
  {
   "cell_type": "code",
   "execution_count": 8,
   "id": "f390d5a4",
   "metadata": {},
   "outputs": [],
   "source": [
    "SD_data['salary'] = np.log(SD_data['salary'])"
   ]
  },
  {
   "cell_type": "markdown",
   "id": "afb79005",
   "metadata": {},
   "source": [
    "# ML-classification error \n",
    "The variable `wfh_wham` describing whether the job posting offers remote work is not manually collected, but is imputed via ML methods. **Based on a sample of size 1000, we know the false positive rate (fpr) to be 0.009**"
   ]
  },
  {
   "cell_type": "markdown",
   "id": "4b7110e6",
   "metadata": {},
   "source": [
    "# Coefficient estimates for San Diego"
   ]
  },
  {
   "cell_type": "markdown",
   "id": "ac106eb7",
   "metadata": {},
   "source": [
    "We will estimate 6 coefficients in total, reproducing Table 1 from [Battaglia et al.](https://arxiv.org/abs/2402.15585) -- we will show the results for the usual two-step strategy, BCM correction, and the one-step strategy twice: once controlling for occupation fixed effects and once not. "
   ]
  },
  {
   "cell_type": "markdown",
   "id": "e2b52028",
   "metadata": {},
   "source": [
    "### Estimates without accounting for fixed effects\n",
    "This section presents simple regression coefficients for models estimated not acocunting for the `soc_2021_2` and `employment_type_name` variables"
   ]
  },
  {
   "cell_type": "code",
   "execution_count": null,
   "id": "1bf010f7",
   "metadata": {},
   "outputs": [],
   "source": [
    "rows = [\"Intercept\", \"wfh_wham\"]"
   ]
  },
  {
   "cell_type": "code",
   "execution_count": 42,
   "id": "dca65769",
   "metadata": {},
   "outputs": [
    {
     "name": "stdout",
     "output_type": "stream",
     "text": [
      "            Estimate  Std. Error      z value  P>|z|       2.5%      97.5%\n",
      "Intercept  10.655967    0.002589  4115.094402    0.0  10.650891  10.661042\n",
      "wfh_wham    0.648514    0.024911    26.033376    0.0   0.599690   0.697339\n"
     ]
    }
   ],
   "source": [
    "res = ols(formula = \"salary ~ wfh_wham\", data=SD_data, intercept = True)\n",
    "summary = res.summary()\n",
    "print(summary.loc[rows])"
   ]
  },
  {
   "cell_type": "code",
   "execution_count": 43,
   "id": "0ee45200",
   "metadata": {},
   "outputs": [
    {
     "name": "stdout",
     "output_type": "stream",
     "text": [
      "            Estimate  Std. Error      z value         P>|z|       2.5%  \\\n",
      "Intercept  10.646261    0.004174  2550.611816  0.000000e+00  10.638080   \n",
      "wfh_wham    1.052442    0.140035     7.515553  5.662137e-14   0.777978   \n",
      "\n",
      "               97.5%  \n",
      "Intercept  10.654442  \n",
      "wfh_wham    1.326906  \n"
     ]
    }
   ],
   "source": [
    "res = ols_bcm(formula= \"salary ~ wfh_wham\", data=SD_data, fpr = 0.009, m = 1000, intercept=True)\n",
    "summary = res.summary()\n",
    "print(summary.loc[rows])"
   ]
  },
  {
   "cell_type": "code",
   "execution_count": 44,
   "id": "3126af28",
   "metadata": {},
   "outputs": [
    {
     "name": "stdout",
     "output_type": "stream",
     "text": [
      "            Estimate  Std. Error      z value  P>|z|       2.5%      97.5%\n",
      "Intercept  10.526436    0.001539  6840.253906    0.0  10.523420  10.529452\n",
      "wfh_wham    0.486144    0.008413    57.781769    0.0   0.469654   0.502634\n"
     ]
    }
   ],
   "source": [
    "res = one_step(formula = 'salary ~ wfh_wham', treatment_var = \"wfh_wham\", data=SD_data, intercept = True)\n",
    "summary = res.summary()\n",
    "print(summary.loc[rows])"
   ]
  },
  {
   "cell_type": "markdown",
   "id": "c7d6363e",
   "metadata": {},
   "source": [
    "### Estimates accounting for fixed effects"
   ]
  },
  {
   "cell_type": "markdown",
   "id": "d32869e9",
   "metadata": {},
   "source": [
    "The formula interface for the package's function allow us to easily account for categorical variables `soc_2021_2` and `naics_2022_2`"
   ]
  },
  {
   "cell_type": "code",
   "execution_count": null,
   "id": "552dcce1",
   "metadata": {},
   "outputs": [
    {
     "name": "stdout",
     "output_type": "stream",
     "text": [
      "            Estimate  Std. Error      z value  P>|z|       2.5%      97.5%\n",
      "Intercept  11.088260    0.009039  1226.680057    0.0  11.070543  11.105977\n",
      "wfh_wham    0.363921    0.021544    16.892263    0.0   0.321696   0.406146\n"
     ]
    }
   ],
   "source": [
    "res = ols(formula = \"salary ~ wfh_wham + C(employment_type_name) + C(soc_2021_2)\", data = SD_data, intercept=True)\n",
    "summary = res.summary()\n",
    "print(summary.loc[rows])\n"
   ]
  },
  {
   "cell_type": "code",
   "execution_count": 39,
   "id": "2e6637c7",
   "metadata": {},
   "outputs": [
    {
     "name": "stdout",
     "output_type": "stream",
     "text": [
      "            Estimate  Std. Error      z value         P>|z|       2.5%  \\\n",
      "Intercept  11.074074    0.010335  1071.556274  0.000000e+00  11.053818   \n",
      "wfh_wham    0.641276    0.099605     6.438210  1.208906e-10   0.446054   \n",
      "\n",
      "               97.5%  \n",
      "Intercept  11.094329  \n",
      "wfh_wham    0.836497  \n"
     ]
    }
   ],
   "source": [
    "res = ols_bcm(formula = \"salary ~ wfh_wham + C(soc_2021_2) + C(employment_type_name)\", treatment_variable=\"wfh_wham\", data = SD_data, fpr = 0.009, m=1000)\n",
    "summary = res.summary()\n",
    "print(summary.loc[rows])"
   ]
  },
  {
   "cell_type": "code",
   "execution_count": 37,
   "id": "479ad020",
   "metadata": {},
   "outputs": [
    {
     "name": "stdout",
     "output_type": "stream",
     "text": [
      "            Estimate  Std. Error     z value  P>|z|       2.5%      97.5%\n",
      "Intercept  10.946439    0.011201  977.315430    0.0  10.924486  10.968391\n",
      "wfh_wham    0.290135    0.010862   26.711267    0.0   0.268846   0.311424\n"
     ]
    }
   ],
   "source": [
    "res = one_step(formula = \"salary ~ wfh_wham + C(soc_2021_2) + C(employment_type_name)\", data = SD_data, treatment_var=\"wfh_wham\")\n",
    "summary = res.summary()\n",
    "print(summary.loc[rows])"
   ]
  },
  {
   "cell_type": "markdown",
   "id": "0aa2505a",
   "metadata": {},
   "source": [
    "Note: the results for `one_step` estimates diverge from those reported in the \"Joint\" column of Table 1 in the paper as those were generated using a Gaussian mixture model not yet available in the package"
   ]
  }
 ],
 "metadata": {
  "kernelspec": {
   "display_name": ".venv",
   "language": "python",
   "name": "python3"
  },
  "language_info": {
   "codemirror_mode": {
    "name": "ipython",
    "version": 3
   },
   "file_extension": ".py",
   "mimetype": "text/x-python",
   "name": "python",
   "nbconvert_exporter": "python",
   "pygments_lexer": "ipython3",
   "version": "3.13.2"
  }
 },
 "nbformat": 4,
 "nbformat_minor": 5
}
