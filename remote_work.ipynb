{
 "cells": [
  {
   "cell_type": "markdown",
   "id": "e479dcfd",
   "metadata": {},
   "source": [
    "# Remote Work and Wage Inequality: Correcting Bias in Regression with Generated Binary Labels"
   ]
  },
  {
   "cell_type": "markdown",
   "id": "455c9a20",
   "metadata": {},
   "source": [
    "This notebook estimates the association between working from home and salaries using real-world job postings data [(Hansen et al., 2023)](https://dx.doi.org/10.2139/ssrn.4380734). It illustrates how the functions `ols_bca`, `ols_bcm` and `one_step` can be used to correct bias from regressing on AI/ML-generated labels. The notebook reproduces results from Table 1 of [Battaglia, Christensen, Hansen & Sacher (2024)](https://arxiv.org/abs/2402.15585)."
   ]
  },
  {
   "cell_type": "code",
   "execution_count": null,
   "id": "2a046bff",
   "metadata": {},
   "outputs": [],
   "source": [
    "from ValidMLInference import ols, ols_bcm, remote_work_data, one_step_gaussian_mixture\n",
    "import numpy as np"
   ]
  },
  {
   "cell_type": "markdown",
   "id": "b3081088",
   "metadata": {},
   "source": [
    "## Data\n",
    "\n",
    "The package contains a subset of [a larger dataset](https://wfhmap.com/) regarding work from home. The sample consists of 16,315 job postings for 2022 and 2023 with “San Diego, CA” recorded as the city and “72” recorded as the NAICS2 industry code of the advertising firm. \n",
    "\n",
    "The data set contains the following entries:\n",
    "1. `city_name` \n",
    "2. `naics_2022_2` - an industry code \n",
    "3. `salary` \n",
    "4. `wfh_wham` - ML-generated indicator of whether the job offers work from home using fine-tuned DistilBERT as in [(Hansen et al., 2023)](https://dx.doi.org/10.2139/ssrn.4380734)\n",
    "5. `soc_2021_2` - Bureau of Labor Statistics Standard Occupational Classification code\n",
    "6. `employment_type_name` - indicates whether the position is full-time or part-time "
   ]
  },
  {
   "cell_type": "code",
   "execution_count": 2,
   "id": "9b384628",
   "metadata": {},
   "outputs": [
    {
     "data": {
      "application/vnd.microsoft.datawrangler.viewer.v0+json": {
       "columns": [
        {
         "name": "index",
         "rawType": "int64",
         "type": "integer"
        },
        {
         "name": "Unnamed: 0",
         "rawType": "int64",
         "type": "integer"
        },
        {
         "name": "city_name",
         "rawType": "object",
         "type": "string"
        },
        {
         "name": "naics_2022_2",
         "rawType": "int64",
         "type": "integer"
        },
        {
         "name": "salary",
         "rawType": "float64",
         "type": "float"
        },
        {
         "name": "wfh_wham",
         "rawType": "int64",
         "type": "integer"
        },
        {
         "name": "soc_2021_2",
         "rawType": "object",
         "type": "string"
        },
        {
         "name": "employment_type_name",
         "rawType": "object",
         "type": "string"
        }
       ],
       "ref": "edc61cb0-1ef9-4463-b588-536b91062383",
       "rows": [
        [
         "0",
         "1",
         "San Diego, CA",
         "72",
         "57500.0",
         "0",
         "11-0000",
         "Full-time (> 32 hours)"
        ],
        [
         "1",
         "2",
         "San Diego, CA",
         "72",
         "31200.0",
         "0",
         "35-0000",
         "Full-time (> 32 hours)"
        ],
        [
         "2",
         "3",
         "San Diego, CA",
         "72",
         "33280.0",
         "0",
         "35-0000",
         "Part-time / full-time"
        ],
        [
         "3",
         "4",
         "San Diego, CA",
         "72",
         "40560.0",
         "0",
         "35-0000",
         "Full-time (> 32 hours)"
        ],
        [
         "4",
         "5",
         "San Diego, CA",
         "72",
         "45760.0",
         "0",
         "11-0000",
         "Full-time (> 32 hours)"
        ]
       ],
       "shape": {
        "columns": 7,
        "rows": 5
       }
      },
      "text/html": [
       "<div>\n",
       "<style scoped>\n",
       "    .dataframe tbody tr th:only-of-type {\n",
       "        vertical-align: middle;\n",
       "    }\n",
       "\n",
       "    .dataframe tbody tr th {\n",
       "        vertical-align: top;\n",
       "    }\n",
       "\n",
       "    .dataframe thead th {\n",
       "        text-align: right;\n",
       "    }\n",
       "</style>\n",
       "<table border=\"1\" class=\"dataframe\">\n",
       "  <thead>\n",
       "    <tr style=\"text-align: right;\">\n",
       "      <th></th>\n",
       "      <th>Unnamed: 0</th>\n",
       "      <th>city_name</th>\n",
       "      <th>naics_2022_2</th>\n",
       "      <th>salary</th>\n",
       "      <th>wfh_wham</th>\n",
       "      <th>soc_2021_2</th>\n",
       "      <th>employment_type_name</th>\n",
       "    </tr>\n",
       "  </thead>\n",
       "  <tbody>\n",
       "    <tr>\n",
       "      <th>0</th>\n",
       "      <td>1</td>\n",
       "      <td>San Diego, CA</td>\n",
       "      <td>72</td>\n",
       "      <td>57500.0</td>\n",
       "      <td>0</td>\n",
       "      <td>11-0000</td>\n",
       "      <td>Full-time (&gt; 32 hours)</td>\n",
       "    </tr>\n",
       "    <tr>\n",
       "      <th>1</th>\n",
       "      <td>2</td>\n",
       "      <td>San Diego, CA</td>\n",
       "      <td>72</td>\n",
       "      <td>31200.0</td>\n",
       "      <td>0</td>\n",
       "      <td>35-0000</td>\n",
       "      <td>Full-time (&gt; 32 hours)</td>\n",
       "    </tr>\n",
       "    <tr>\n",
       "      <th>2</th>\n",
       "      <td>3</td>\n",
       "      <td>San Diego, CA</td>\n",
       "      <td>72</td>\n",
       "      <td>33280.0</td>\n",
       "      <td>0</td>\n",
       "      <td>35-0000</td>\n",
       "      <td>Part-time / full-time</td>\n",
       "    </tr>\n",
       "    <tr>\n",
       "      <th>3</th>\n",
       "      <td>4</td>\n",
       "      <td>San Diego, CA</td>\n",
       "      <td>72</td>\n",
       "      <td>40560.0</td>\n",
       "      <td>0</td>\n",
       "      <td>35-0000</td>\n",
       "      <td>Full-time (&gt; 32 hours)</td>\n",
       "    </tr>\n",
       "    <tr>\n",
       "      <th>4</th>\n",
       "      <td>5</td>\n",
       "      <td>San Diego, CA</td>\n",
       "      <td>72</td>\n",
       "      <td>45760.0</td>\n",
       "      <td>0</td>\n",
       "      <td>11-0000</td>\n",
       "      <td>Full-time (&gt; 32 hours)</td>\n",
       "    </tr>\n",
       "  </tbody>\n",
       "</table>\n",
       "</div>"
      ],
      "text/plain": [
       "   Unnamed: 0      city_name  naics_2022_2   salary  wfh_wham soc_2021_2  \\\n",
       "0           1  San Diego, CA            72  57500.0         0    11-0000   \n",
       "1           2  San Diego, CA            72  31200.0         0    35-0000   \n",
       "2           3  San Diego, CA            72  33280.0         0    35-0000   \n",
       "3           4  San Diego, CA            72  40560.0         0    35-0000   \n",
       "4           5  San Diego, CA            72  45760.0         0    11-0000   \n",
       "\n",
       "     employment_type_name  \n",
       "0  Full-time (> 32 hours)  \n",
       "1  Full-time (> 32 hours)  \n",
       "2   Part-time / full-time  \n",
       "3  Full-time (> 32 hours)  \n",
       "4  Full-time (> 32 hours)  "
      ]
     },
     "execution_count": 2,
     "metadata": {},
     "output_type": "execute_result"
    }
   ],
   "source": [
    "SD_data = remote_work_data()\n",
    "SD_data.head(5)"
   ]
  },
  {
   "cell_type": "markdown",
   "id": "64bdbc32",
   "metadata": {},
   "source": [
    "For purpose of this estimation, we also log-transform the salary data. "
   ]
  },
  {
   "cell_type": "code",
   "execution_count": 3,
   "id": "f390d5a4",
   "metadata": {},
   "outputs": [],
   "source": [
    "SD_data['salary'] = np.log(SD_data['salary'])"
   ]
  },
  {
   "cell_type": "markdown",
   "id": "afb79005",
   "metadata": {},
   "source": [
    "## Estimating the false-positive rate\n",
    "\n",
    "The variable `wfh_wham` describing whether the job posting offers remote work is not manually collected, but is imputed via ML methods using fine-tuned DistilBERT as in [(Hansen et al., 2023)](https://dx.doi.org/10.2139/ssrn.4380734). This classifier has over 99% test accuracy. Nevertheless, as [Battaglia, Christensen, Hansen & Sacher (2024)](https://arxiv.org/abs/2402.15585) document, even high-performance classifiers can lead to large biases in OLS estimates.\n",
    "\n",
    "The bias correction methods `ols_bca` and `ols_bcm` require estimates of the classifier's false-positive rate.\n",
    "\n",
    "We estimate the false positive rate manually. To do so, we took a random sample of size 1000 postings. Of these, 26 had `wfh_wham = 1`. Based on reading these 26 postings, 9 appeared to be misclassified. This means the estimated false-positive rate is 0.009. Accordingly, we will implement `ols_bcm` with `fpr = 0.009` (the estimated false-positive rate) and `m = 1000` (the sample size used to estimate the false-positive rate)."
   ]
  },
  {
   "cell_type": "markdown",
   "id": "4b7110e6",
   "metadata": {},
   "source": [
    "## Results\n",
    "\n",
    "We first present results for a simple regression of log salary onto the remote work indicator. We then consider a second specification with fixed effects.\n",
    "\n",
    "We compare standard OLS esitmates and confidence intervals with estimates and confidence intervals using `ols_bcm` which performs a direct bias correction and computes bias corrected CIs, and `one_step` which performs maximum likelihood estimation treating the true labels as latent."
   ]
  },
  {
   "cell_type": "markdown",
   "id": "e2b52028",
   "metadata": {},
   "source": [
    "### Without fixed effects\n",
    "\n",
    "We first present OLS estimates:"
   ]
  },
  {
   "cell_type": "code",
   "execution_count": 6,
   "id": "dca65769",
   "metadata": {},
   "outputs": [
    {
     "name": "stdout",
     "output_type": "stream",
     "text": [
      "            Estimate  Std. Error      z value  P>|z|       2.5%      97.5%\n",
      "Intercept  10.655967    0.002589  4115.094402    0.0  10.650891  10.661042\n",
      "wfh_wham    0.648514    0.024911    26.033376    0.0   0.599690   0.697339\n"
     ]
    }
   ],
   "source": [
    "res = ols(formula = \"salary ~ wfh_wham\", data=SD_data, intercept = True)\n",
    "print(res.summary())"
   ]
  },
  {
   "cell_type": "markdown",
   "id": "87f409a0",
   "metadata": {},
   "source": [
    "Now using the multiplicative bias correction, with bias corrected CIs:"
   ]
  },
  {
   "cell_type": "code",
   "execution_count": 7,
   "id": "0ee45200",
   "metadata": {},
   "outputs": [
    {
     "name": "stdout",
     "output_type": "stream",
     "text": [
      "            Estimate  Std. Error      z value         P>|z|       2.5%  \\\n",
      "wfh_wham    1.052442    0.140035     7.515553  5.662137e-14   0.777978   \n",
      "Intercept  10.646261    0.004174  2550.611816  0.000000e+00  10.638080   \n",
      "\n",
      "               97.5%  \n",
      "wfh_wham    1.326906  \n",
      "Intercept  10.654442  \n"
     ]
    }
   ],
   "source": [
    "res = ols_bcm(formula= \"salary ~ wfh_wham\", data=SD_data, fpr = 0.009, m = 1000, intercept=True)\n",
    "print(res.summary())"
   ]
  },
  {
   "cell_type": "markdown",
   "id": "c74b3523",
   "metadata": {},
   "source": [
    "Finally, using maximum likelihood:"
   ]
  },
  {
   "cell_type": "code",
   "execution_count": null,
   "id": "3126af28",
   "metadata": {},
   "outputs": [
    {
     "name": "stdout",
     "output_type": "stream",
     "text": [
      "            Estimate  Std. Error      z value  P>|z|       2.5%      97.5%\n",
      "Intercept  10.543913    0.001939  5437.446777    0.0  10.540112  10.547714\n",
      "wfh_wham    0.557077    0.011196    49.755646    0.0   0.535132   0.579021\n"
     ]
    }
   ],
   "source": [
    "res = one_step_gaussian_mixture(formula = \"salary ~ wfh_wham\", data = SD_data, generated_var = \"wfh_wham\", k = 3, nguess = 30, maxiter=300, seed = 123) \n",
    "print(res.summary())"
   ]
  },
  {
   "cell_type": "markdown",
   "id": "c7d6363e",
   "metadata": {},
   "source": [
    "### With fixed effects\n",
    "\n",
    "We repeat the above now with fixed effects, which are easily generated for the categorical variables `soc_2021_2` and `employment_type_name`.\n",
    "\n",
    "First using OLS:"
   ]
  },
  {
   "cell_type": "code",
   "execution_count": 6,
   "id": "552dcce1",
   "metadata": {},
   "outputs": [
    {
     "name": "stdout",
     "output_type": "stream",
     "text": [
      "            Estimate  Std. Error      z value  P>|z|       2.5%      97.5%\n",
      "Intercept  11.088260    0.009039  1226.680057    0.0  11.070543  11.105977\n",
      "wfh_wham    0.363921    0.021544    16.892263    0.0   0.321696   0.406146\n"
     ]
    }
   ],
   "source": [
    "res = ols(formula = \"salary ~ wfh_wham + C(soc_2021_2) + C(employment_type_name)\", data = SD_data, intercept=True)\n",
    "summary = res.summary()\n",
    "rows = [\"Intercept\", \"wfh_wham\"]\n",
    "print(summary.loc[rows])"
   ]
  },
  {
   "cell_type": "markdown",
   "id": "95aa45ca",
   "metadata": {},
   "source": [
    "Now using the multiplicative bias correction:"
   ]
  },
  {
   "cell_type": "code",
   "execution_count": 10,
   "id": "2e6637c7",
   "metadata": {},
   "outputs": [
    {
     "name": "stdout",
     "output_type": "stream",
     "text": [
      "            Estimate  Std. Error      z value         P>|z|       2.5%  \\\n",
      "Intercept  11.074074    0.010335  1071.556274  0.000000e+00  11.053818   \n",
      "wfh_wham    0.641276    0.099605     6.438210  1.208906e-10   0.446054   \n",
      "\n",
      "               97.5%  \n",
      "Intercept  11.094329  \n",
      "wfh_wham    0.836497  \n"
     ]
    }
   ],
   "source": [
    "res = ols_bcm(formula = \"salary ~ wfh_wham + C(soc_2021_2) + C(employment_type_name)\", generated_var = \"wfh_wham\", data = SD_data, fpr = 0.009, m=1000)\n",
    "summary = res.summary()\n",
    "print(summary.loc[rows])"
   ]
  },
  {
   "cell_type": "markdown",
   "id": "ede841c9",
   "metadata": {},
   "source": [
    "Comparing these results with the OLS results above, we see that the bias corrected CI for the slope coefficient lies to the right of the OLS CI.\n",
    "\n",
    "Finally, using maximum likelihood:"
   ]
  },
  {
   "cell_type": "code",
   "execution_count": 32,
   "id": "479ad020",
   "metadata": {},
   "outputs": [
    {
     "name": "stdout",
     "output_type": "stream",
     "text": [
      "            Estimate  Std. Error      z value  P>|z|       2.5%      97.5%\n",
      "Intercept  10.894688    0.007515  1449.811890    0.0  10.879959  10.909416\n",
      "wfh_wham    0.505914    0.015785    32.050529    0.0   0.474977   0.536852\n"
     ]
    }
   ],
   "source": [
    "res = one_step_gaussian_mixture(formula = \"salary ~ wfh_wham + C(soc_2021_2) + C(employment_type_name)\", data = SD_data, generated_var = \"wfh_wham\", k = 3, nguess = 30, maxiter=300) \n",
    "summary = res.summary()\n",
    "print(summary.loc[rows])"
   ]
  }
 ],
 "metadata": {
  "kernelspec": {
   "display_name": ".venv",
   "language": "python",
   "name": "python3"
  },
  "language_info": {
   "codemirror_mode": {
    "name": "ipython",
    "version": 3
   },
   "file_extension": ".py",
   "mimetype": "text/x-python",
   "name": "python",
   "nbconvert_exporter": "python",
   "pygments_lexer": "ipython3",
   "version": "3.13.2"
  }
 },
 "nbformat": 4,
 "nbformat_minor": 5
}
