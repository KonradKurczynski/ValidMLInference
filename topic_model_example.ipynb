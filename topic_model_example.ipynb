{
 "cells": [
  {
   "cell_type": "markdown",
   "id": "65f59fdb",
   "metadata": {},
   "source": [
    "# CEO Time Use and Firm Performance: A Topic Model Application"
   ]
  },
  {
   "cell_type": "markdown",
   "id": "0cd1885f",
   "metadata": {},
   "source": [
    "This notebook estimates models for the association between CEO time allocation and firm performance, reproducing results from Table 2 of [Battaglia, Christensen, Hansen & Sacher (2024)](https://arxiv.org/abs/2402.15585). The analysis demonstrates bias correction methods for ML-generated regressors in the context of topic modeling."
   ]
  },
  {
   "cell_type": "code",
   "execution_count": 18,
   "id": "d1630154",
   "metadata": {},
   "outputs": [],
   "source": [
    "import numpy as np\n",
    "import pandas as pd\n",
    "import matplotlib.pyplot as plt\n",
    "import seaborn as sns\n",
    "from scipy import stats\n",
    "\n",
    "# Import your regression functions\n",
    "from ValidMLInference import (\n",
    "    ols, ols_bca_topic, load_topic_model_data\n",
    ")\n",
    "\n",
    "# Set style for plots\n",
    "plt.style.use('seaborn-v0_8')\n",
    "sns.set_palette(\"husl\")"
   ]
  },
  {
   "cell_type": "markdown",
   "id": "b8cbe2e7",
   "metadata": {},
   "source": [
    "## The dataset\n",
    "\n",
    "The role of CEOs in shaping firm performance is important for many academic and policy debates, but until recently little data existed on what CEOs do with their time. To fill this void, Bandiera et al. (2020) collects diary data on a set of CEO activities from a sample of manufacturing firms. The paper describes salient differences in executive time use and relates these differences to firm and CEO characteristics and firm outcomes.\n",
    "The survey consists of five questions with categorical responses:\n",
    "\n",
    " - (Q1) the type of activity (meeting, public event, etc.)\n",
    " - (Q2) duration of activity (15m, 30m, etc.)\n",
    " - (Q3) whether the activity is planned or unplanned\n",
    " - (Q4) the number of participants in the activity\n",
    " - (Q5) the function of the participants in the activity (HR, finance, suppliers, etc.)\n",
    "\n",
    "Survey responses are recorded for each 15-minute interval of a given week, e.g. Monday 8am-8:15am, Monday 8:15am-8:30am, and so forth. The sample consists of V = 654 answer combinations observed across the five questions.\n",
    "\n",
    "The data are modeled as a topic model, with K = 2 topics. The estimated $\\hat{\\beta}_1$ places relatively higher mass on features associated with \"management,\" like communicating with other C-suite executives and holding large, multi-function meetings, or suppliers, while $\\hat{\\beta}_2$ places relatively higher mass on features associated with \"leadership\" - like communicating with other C-suite executives and holding large, multi-function meetings."
   ]
  },
  {
   "cell_type": "code",
   "execution_count": 19,
   "id": "11123bf0",
   "metadata": {},
   "outputs": [
    {
     "name": "stdout",
     "output_type": "stream",
     "text": [
      "Sample size: 916\n",
      "Number of control variables: 11\n",
      "Standard deviation of Y: 1.544\n",
      "\n",
      "Sample data:\n",
      "           Y  theta_topic1  control1  control2\n",
      "0  12.352137      0.605186  1.268126       0.0\n",
      "1  10.096356      0.084489  1.113297       0.0\n",
      "2  14.075560      0.969039  3.227946       0.0\n",
      "3  12.358381      0.288178  1.672314       0.0\n",
      "4  10.530302      0.430811  0.728468       0.0\n"
     ]
    }
   ],
   "source": [
    "topic_data = load_topic_model_data()\n",
    "\n",
    "Z = topic_data['covars']                    # Control variables\n",
    "estimation_data = topic_data['estimation_data']  # Main dataset\n",
    "gamma_draws = topic_data['gamma_draws']     # MCMC draws\n",
    "theta_est_full = topic_data['theta_est_full']   # Full sample topic estimates\n",
    "theta_est_samp = topic_data['theta_est_samp']   # Subsample topic estimates\n",
    "beta_est_full = topic_data['beta_est_full']     # Full sample topic-word distributions\n",
    "beta_est_samp = topic_data['beta_est_samp']     # Subsample topic-word distributions\n",
    "lda_data = topic_data['lda_data']          # LDA validation data\n",
    "\n",
    "# Dependent variable: log employment, country fixed effects, and survey-wave fixed effects\n",
    "Y = estimation_data['ly']\n",
    "sigma_y = np.std(Y)\n",
    "\n",
    "print(f\"Sample size: {len(Y)}\")\n",
    "print(f\"Number of control variables: {Z.shape[1]}\")\n",
    "print(f\"Standard deviation of Y: {sigma_y:.3f}\")\n",
    "\n",
    "# Show sample of the data\n",
    "sample_data = pd.DataFrame({\n",
    "    'Y': Y,\n",
    "    'theta_topic1': theta_est_full[:, 0],\n",
    "    'control1': Z[:, 0],\n",
    "    'control2': Z[:, 1]\n",
    "})\n",
    "\n",
    "print(\"\\nSample data:\")\n",
    "print(sample_data.head())"
   ]
  },
  {
   "cell_type": "markdown",
   "id": "453db0ad",
   "metadata": {},
   "source": [
    "## Estimation strategy\n",
    "\n",
    "The paper's use of the two-step strategy may, however, lead to invalid inference. To explore this possibility, we first replicate the authors' two-step strategy, estimating $\\hat{\\theta}_i$ by LDA, then regressing the log value of each CEO's firm on $\\hat{\\theta}_i$ and controls including log employment, country fixed effects, and survey-wave fixed effects."
   ]
  },
  {
   "cell_type": "markdown",
   "id": "46c43709",
   "metadata": {},
   "source": [
    "## Two-step strategy\n",
    "\n",
    "The two-step approach now estimates a smaller insignificant effect, while both bias correction and joint estimation continue to estimate a significant effect."
   ]
  },
  {
   "cell_type": "code",
   "execution_count": 20,
   "id": "9a082005",
   "metadata": {},
   "outputs": [
    {
     "name": "stdout",
     "output_type": "stream",
     "text": [
      "Full Sample Two-Step Estimation:\n",
      "            Estimate  Std. Error    z value     P>|z|      2.5%      97.5%\n",
      "Intercept   9.874123    0.159194  62.025623  0.000000  9.562108  10.186138\n",
      "topic1      0.404658    0.092081   4.394608  0.000011  0.224184   0.585133\n",
      "control_1   1.211107    0.028622  42.314381  0.000000  1.155010   1.267205\n",
      "control_2  -0.042806    0.392070  -0.109179  0.913060 -0.811248   0.725636\n",
      "control_3   0.276743    0.198298   1.395590  0.162838 -0.111914   0.665400\n",
      "control_4   0.560206    0.191961   2.918327  0.003519  0.183969   0.936443\n",
      "control_5   0.591815    0.176113   3.360416  0.000778  0.246639   0.936991\n",
      "control_6   0.336933    0.163165   2.064980  0.038925  0.017135   0.656731\n",
      "control_7   0.762824    0.090040   8.472091  0.000000  0.586350   0.939299\n",
      "control_8   0.828211    0.078965  10.488370  0.000000  0.673443   0.982979\n",
      "control_9   0.680610    0.082034   8.296700  0.000000  0.519827   0.841394\n",
      "control_10 -0.340563    0.126065  -2.701483  0.006903 -0.587646  -0.093480\n",
      "control_11 -0.043349    0.104516  -0.414761  0.678317 -0.248198   0.161499\n"
     ]
    }
   ],
   "source": [
    "# Full sample two-step estimation\n",
    "theta_full = theta_est_full\n",
    "Xhat_full = np.column_stack([theta_full[:, 0], Z])  # First topic + controls\n",
    "\n",
    "# Create variable names\n",
    "var_names = ['topic1'] + [f'control_{i+1}' for i in range(Z.shape[1])]\n",
    "\n",
    "lm_full = ols(Y=Y, X=Xhat_full, se=True, intercept=True, names=var_names)\n",
    "\n",
    "print(\"Full Sample Two-Step Estimation:\")\n",
    "print(lm_full.summary())"
   ]
  },
  {
   "cell_type": "code",
   "execution_count": 21,
   "id": "5bc1f354",
   "metadata": {},
   "outputs": [
    {
     "name": "stdout",
     "output_type": "stream",
     "text": [
      "10% Subsample Two-Step Estimation:\n",
      "            Estimate  Std. Error    z value     P>|z|      2.5%      97.5%\n",
      "Intercept   9.940524    0.170793  58.202244  0.000000  9.605776  10.275272\n",
      "topic1      0.226714    0.135119   1.677886  0.093369 -0.038114   0.491541\n",
      "control_1   1.237230    0.028316  43.694130  0.000000  1.181732   1.292728\n",
      "control_2  -0.062827    0.397736  -0.157962  0.874487 -0.842376   0.716721\n",
      "control_3   0.260756    0.199772   1.305268  0.191802 -0.130790   0.652301\n",
      "control_4   0.530769    0.193807   2.738644  0.006169  0.150914   0.910624\n",
      "control_5   0.571770    0.177352   3.223932  0.001264  0.224167   0.919373\n",
      "control_6   0.322330    0.163247   1.974497  0.048325  0.002372   0.642287\n",
      "control_7   0.808265    0.091661   8.817999  0.000000  0.628613   0.987917\n",
      "control_8   0.890245    0.079231  11.236112  0.000000  0.734956   1.045534\n",
      "control_9   0.697467    0.083427   8.360213  0.000000  0.533953   0.860981\n",
      "control_10 -0.362645    0.128799  -2.815599  0.004869 -0.615086  -0.110205\n",
      "control_11 -0.023278    0.106396  -0.218783  0.826819 -0.231810   0.185255\n"
     ]
    }
   ],
   "source": [
    "# 10% Subsample two-step estimation\n",
    "theta_samp = theta_est_samp\n",
    "Xhat_samp = np.column_stack([theta_samp[:, 0], Z])\n",
    "\n",
    "lm_samp = ols(Y=Y, X=Xhat_samp, se=True, intercept=True, names=var_names)\n",
    "\n",
    "print(\"10% Subsample Two-Step Estimation:\")\n",
    "print(lm_samp.summary())"
   ]
  },
  {
   "cell_type": "markdown",
   "id": "5eebb4df",
   "metadata": {},
   "source": [
    "## Bias correction\n",
    "\n",
    "The empirical analogue of this expression is $\\hat{\\theta}_i$ for the simple model. While not directly applicable here as the topic model structure is more complex, it still allows one to qualitatively compare sampling error (reflected by $\\hat{\\zeta}^{-1}_j$) and measurement error (reflected by $\\hat{\\epsilon}[\\hat{\\zeta}^{-1}_j]$). The empirical analogue of this expression is 0.44."
   ]
  },
  {
   "cell_type": "code",
   "execution_count": 22,
   "id": "dbcde28d",
   "metadata": {},
   "outputs": [
    {
     "name": "stdout",
     "output_type": "stream",
     "text": [
      "Kappa (full): 0.442\n",
      "Full Sample Bias Correction:\n",
      "           Estimate  Std. Error    z value         P>|z|      2.5%      97.5%\n",
      "Intercept  9.842479    0.159194  61.826851  0.000000e+00  9.530464  10.154494\n",
      "topic_1    0.474253    0.092081   5.150410  2.599174e-07  0.293778   0.654728\n",
      "Q_1        1.204900    0.028622  42.097511  0.000000e+00  1.148803   1.260998\n",
      "Q_2       -0.032197    0.392070  -0.082121  9.345505e-01 -0.800639   0.736245\n",
      "Q_3        0.284560    0.198298   1.435010  1.512844e-01 -0.104097   0.673217\n",
      "Q_4        0.569446    0.191961   2.966466  3.012437e-03  0.193209   0.945683\n",
      "Q_5        0.598246    0.176113   3.396936  6.814498e-04  0.253070   0.943422\n",
      "Q_6        0.341925    0.163165   2.095576  3.611979e-02  0.022127   0.661724\n",
      "Q_7        0.750862    0.090040   8.339242  0.000000e+00  0.574388   0.927337\n",
      "Q_8        0.813897    0.078965  10.307093  0.000000e+00  0.659129   0.968665\n",
      "Q_9        0.674966    0.082034   8.227897  2.220446e-16  0.514183   0.835750\n",
      "Q_10      -0.338900    0.126065  -2.688298  7.181738e-03 -0.585983  -0.091817\n",
      "Q_11      -0.048240    0.104516  -0.461556  6.443997e-01 -0.253089   0.156608\n"
     ]
    }
   ],
   "source": [
    "# Full sample bias correction\n",
    "kappa_full = np.mean(1.0 / lda_data[:, 0]) * np.sqrt(len(lda_data))\n",
    "S = np.array([[1.0, 0.0]])  # Topic loadings: first topic active\n",
    "\n",
    "print(f\"Kappa (full): {kappa_full:.3f}\")\n",
    "\n",
    "bc_full = ols_bca_topic(\n",
    "    Y=Y,\n",
    "    Q=Z,                    # Control variables\n",
    "    W=theta_est_full,       # Document-topic proportions\n",
    "    S=S,                    # Topic loadings\n",
    "    B=beta_est_full,        # Topic-word distributions\n",
    "    k=kappa_full,           # Scaling parameter\n",
    "    intercept=True\n",
    ")\n",
    "\n",
    "print(\"Full Sample Bias Correction:\")\n",
    "print(bc_full.summary())"
   ]
  },
  {
   "cell_type": "code",
   "execution_count": 23,
   "id": "e6b42822",
   "metadata": {},
   "outputs": [
    {
     "name": "stdout",
     "output_type": "stream",
     "text": [
      "Kappa (subsample): 4.262\n",
      "10% Subsample Bias Correction:\n",
      "           Estimate  Std. Error    z value         P>|z|      2.5%     97.5%\n",
      "Intercept  9.511539    0.170793  55.690510  0.000000e+00  9.176791  9.846286\n",
      "topic_1    1.053774    0.135119   7.798883  6.217249e-15  0.788946  1.318602\n",
      "Q_1        1.200861    0.028316  42.409702  0.000000e+00  1.145363  1.256358\n",
      "Q_2        0.089161    0.397736   0.224172  8.226236e-01 -0.690388  0.868710\n",
      "Q_3        0.368240    0.199772   1.843303  6.528472e-02 -0.023305  0.759785\n",
      "Q_4        0.619395    0.193807   3.195934  1.393788e-03  0.239540  0.999250\n",
      "Q_5        0.635071    0.177352   3.580852  3.424756e-04  0.287467  0.982674\n",
      "Q_6        0.374949    0.163247   2.296825  2.162873e-02  0.054991  0.694906\n",
      "Q_7        0.720312    0.091661   7.858446  3.996803e-15  0.540660  0.899964\n",
      "Q_8        0.812913    0.079231  10.260080  0.000000e+00  0.657624  0.968203\n",
      "Q_9        0.639239    0.083427   7.662267  1.820766e-14  0.475726  0.802753\n",
      "Q_10      -0.407946    0.128799  -3.167311  1.538555e-03 -0.660386 -0.155505\n",
      "Q_11      -0.053797    0.106396  -0.505626  6.131190e-01 -0.262329  0.154736\n"
     ]
    }
   ],
   "source": [
    "# 10% Subsample bias correction\n",
    "kappa_samp = np.mean(1.0 / lda_data[:, 1]) * np.sqrt(len(lda_data))\n",
    "\n",
    "print(f\"Kappa (subsample): {kappa_samp:.3f}\")\n",
    "\n",
    "bc_samp = ols_bca_topic(\n",
    "    Y=Y,\n",
    "    Q=Z,\n",
    "    W=theta_est_samp,\n",
    "    S=S,\n",
    "    B=beta_est_samp,\n",
    "    k=kappa_samp,\n",
    "    intercept=True\n",
    ")\n",
    "\n",
    "print(\"10% Subsample Bias Correction:\")\n",
    "print(bc_samp.summary())"
   ]
  },
  {
   "cell_type": "markdown",
   "id": "754a8c74",
   "metadata": {},
   "source": [
    "## Joint Estimation\n",
    "\n",
    "In other words, there are a relatively large number of survey responses per CEO compared to the number of surveyed CEOs, meaning the measurement error in $\\hat{\\theta}_i$ is small relative to sampling error. To increase measurement error, we take a random 10% subsample of survey responses for each CEO, which can be thought of as observing half a day of behavior rather than a five-day workweek."
   ]
  },
  {
   "cell_type": "code",
   "execution_count": 24,
   "id": "75c536cb",
   "metadata": {},
   "outputs": [
    {
     "name": "stdout",
     "output_type": "stream",
     "text": [
      "Joint estimation results:\n",
      "Topic 1 coefficient: 0.402 [0.240, 0.602]\n",
      "Topic 2 coefficient: 0.439 [0.153, 0.711]\n"
     ]
    }
   ],
   "source": [
    "# Joint estimation using MCMC draws (scaled by dependent variable standard deviation)\n",
    "gamma_scaled = gamma_draws * sigma_y\n",
    "gamma_hat_1 = np.mean(gamma_scaled, axis=0)\n",
    "\n",
    "# Calculate empirical confidence intervals from MCMC draws\n",
    "alpha = 0.05\n",
    "ci_lower_1 = np.percentile(gamma_scaled, 100 * alpha/2, axis=0)\n",
    "ci_upper_1 = np.percentile(gamma_scaled, 100 * (1 - alpha/2), axis=0)\n",
    "\n",
    "print(\"Joint estimation results:\")\n",
    "print(f\"Topic 1 coefficient: {gamma_hat_1[0]:.3f} [{ci_lower_1[0]:.3f}, {ci_upper_1[0]:.3f}]\")\n",
    "print(f\"Topic 2 coefficient: {gamma_hat_1[1]:.3f} [{ci_lower_1[1]:.3f}, {ci_upper_1[1]:.3f}]\")"
   ]
  },
  {
   "cell_type": "markdown",
   "id": "912aa900",
   "metadata": {},
   "source": [
    "## Comparison of methods\n",
    "\n",
    "What's more, neither bias correction nor joint estimation shifts the estimated coefficient upward by a large amount. This shows that bias is not an inevitable part of using AI/ML-generated variables, but rather depends on the empirical setting."
   ]
  },
  {
   "cell_type": "code",
   "execution_count": 25,
   "id": "de8a653b",
   "metadata": {},
   "outputs": [
    {
     "name": "stdout",
     "output_type": "stream",
     "text": [
      "Comparison of Methods:\n",
      "       Sample          Method   Estimate     CI_Lower   CI_Upper\n",
      "         Full        Two-Step  0.4046584   0.22418365  0.5851332\n",
      "10% Subsample        Two-Step 0.22671358 -0.038113967 0.49154115\n",
      "         Full Bias Correction 0.47425315    0.2937784 0.65472794\n",
      "10% Subsample Bias Correction   1.053774   0.78894645  1.3186016\n",
      "         Full           Joint   0.401849     0.239983   0.602348\n"
     ]
    }
   ],
   "source": [
    "# Extract key coefficients for the first topic (management)\n",
    "results_data = []\n",
    "\n",
    "# Helper function to get confidence intervals from regression results\n",
    "def get_ci(result, coef_idx=0, alpha=0.05):\n",
    "    coef = result.coef[coef_idx]\n",
    "    se = np.sqrt(result.vcov[coef_idx, coef_idx])\n",
    "    z_crit = stats.norm.ppf(1 - alpha/2)\n",
    "    return coef - z_crit * se, coef + z_crit * se\n",
    "\n",
    "# Two-step results\n",
    "ci_full_lower, ci_full_upper = get_ci(lm_full, 1)  # topic1 is index 1 (after intercept)\n",
    "ci_samp_lower, ci_samp_upper = get_ci(lm_samp, 1)\n",
    "\n",
    "# Bias correction results\n",
    "ci_bc_full_lower, ci_bc_full_upper = get_ci(bc_full, 1)  # topic_1 is index 1\n",
    "ci_bc_samp_lower, ci_bc_samp_upper = get_ci(bc_samp, 1)\n",
    "\n",
    "results_data = [\n",
    "    {\"Sample\": \"Full\", \"Method\": \"Two-Step\", \n",
    "     \"Estimate\": lm_full.coef[1], \"CI_Lower\": ci_full_lower, \"CI_Upper\": ci_full_upper},\n",
    "    {\"Sample\": \"10% Subsample\", \"Method\": \"Two-Step\", \n",
    "     \"Estimate\": lm_samp.coef[1], \"CI_Lower\": ci_samp_lower, \"CI_Upper\": ci_samp_upper},\n",
    "    {\"Sample\": \"Full\", \"Method\": \"Bias Correction\", \n",
    "     \"Estimate\": bc_full.coef[1], \"CI_Lower\": ci_bc_full_lower, \"CI_Upper\": ci_bc_full_upper},\n",
    "    {\"Sample\": \"10% Subsample\", \"Method\": \"Bias Correction\", \n",
    "     \"Estimate\": bc_samp.coef[1], \"CI_Lower\": ci_bc_samp_lower, \"CI_Upper\": ci_bc_samp_upper},\n",
    "    {\"Sample\": \"Full\", \"Method\": \"Joint\", \n",
    "     \"Estimate\": gamma_hat_1[0], \"CI_Lower\": ci_lower_1[0], \"CI_Upper\": ci_upper_1[0]}\n",
    "]\n",
    "\n",
    "results_df = pd.DataFrame(results_data)\n",
    "results_df = results_df.round(3)\n",
    "\n",
    "print(\"Comparison of Methods:\")\n",
    "print(results_df.to_string(index=False))"
   ]
  },
  {
   "cell_type": "code",
   "execution_count": 26,
   "id": "14ace653",
   "metadata": {},
   "outputs": [
    {
     "data": {
      "image/png": "[encoded data removed]",
      "text/plain": [
       "<Figure size 1000x700 with 1 Axes>"
      ]
     },
     "metadata": {},
     "output_type": "display_data"
    }
   ],
   "source": [
    "plt.style.use('default')  \n",
    "fig, ax = plt.subplots(figsize=(10, 7))\n",
    "plot_data = results_df.copy()\n",
    "plot_data['Method_Sample'] = plot_data['Method'] + '\\n(' + plot_data['Sample'] + ')'\n",
    "\n",
    "colors = {\n",
    "    'Two-Step': '#1f77b4',       \n",
    "    'Bias Correction': '#ff7f0e',  \n",
    "    'Joint': '#2ca02c'            \n",
    "}\n",
    "\n",
    "y_positions = np.arange(len(plot_data))[::-1]  \n",
    "\n",
    "for i, (idx, row) in enumerate(plot_data.iterrows()):\n",
    "    y_pos = y_positions[i]\n",
    "    method = row['Method']\n",
    "    color = colors[method]\n",
    "    \n",
    "    ax.plot([row['CI_Lower'], row['CI_Upper']], [y_pos, y_pos], \n",
    "            color=color, linewidth=3, alpha=0.8)\n",
    "\n",
    "    ax.scatter(row['Estimate'], y_pos, color=color, s=100, \n",
    "               edgecolors='white', linewidth=2, zorder=10,\n",
    "               label=method if i == 0 or method != plot_data.iloc[i-1]['Method'] else \"\")\n",
    "\n",
    "ax.axvline(x=0, color='black', linestyle='-', alpha=0.3, linewidth=1)\n",
    "\n",
    "ax.set_yticks(y_positions)\n",
    "ax.set_yticklabels(plot_data['Method_Sample'], fontsize=11)\n",
    "ax.set_xlabel('Coefficient Estimate', fontsize=13, fontweight='600')\n",
    "ax.set_title('CEO Management Behavior Impact on Firm Performance\\nEstimation Method Comparison with 95% Confidence Intervals', \n",
    "             fontsize=14, fontweight='700', pad=20)\n",
    "\n",
    "ax.spines['top'].set_visible(False)\n",
    "ax.spines['right'].set_visible(False)\n",
    "ax.spines['left'].set_visible(False)\n",
    "ax.grid(axis='x', alpha=0.3, linewidth=0.8)\n",
    "ax.set_axisbelow(True)\n",
    "\n",
    "handles, labels = ax.get_legend_handles_labels()\n",
    "unique_labels = []\n",
    "unique_handles = []\n",
    "for handle, label in zip(handles, labels):\n",
    "    if label not in unique_labels:\n",
    "        unique_labels.append(label)\n",
    "        unique_handles.append(handle)\n",
    "\n",
    "ax.legend(unique_handles, unique_labels, title='Method', \n",
    "          frameon=False, loc='lower right', fontsize=11)\n",
    "\n",
    "x_margin = 0.1\n",
    "x_min = min(plot_data['CI_Lower']) - x_margin\n",
    "x_max = max(plot_data['CI_Upper']) + x_margin\n",
    "ax.set_xlim(x_min, x_max)\n",
    "\n",
    "ax.set_ylim(-0.5, len(plot_data) - 0.5)\n",
    "\n",
    "plt.tight_layout()\n",
    "plt.show()\n",
    "\n"
   ]
  },
  {
   "cell_type": "code",
   "execution_count": 27,
   "id": "583f6300",
   "metadata": {},
   "outputs": [
    {
     "name": "stdout",
     "output_type": "stream",
     "text": [
      "\n",
      "Summary of Results:\n",
      "============================================================\n",
      "         Method        Sample Estimate          95% CI\n",
      "       Two-Step          Full    0.405  [0.224, 0.585]\n",
      "       Two-Step 10% Subsample    0.227 [-0.038, 0.492]\n",
      "Bias Correction          Full    0.474  [0.294, 0.655]\n",
      "Bias Correction 10% Subsample    1.054  [0.789, 1.319]\n",
      "          Joint          Full    0.402  [0.240, 0.602]\n"
     ]
    }
   ],
   "source": [
    "print(\"\\nSummary of Results:\")\n",
    "print(\"=\" * 60)\n",
    "summary_table = plot_data[['Method', 'Sample', 'Estimate', 'CI_Lower', 'CI_Upper']].copy()\n",
    "summary_table['95% CI'] = summary_table.apply(\n",
    "    lambda row: f\"[{row['CI_Lower']:.3f}, {row['CI_Upper']:.3f}]\", axis=1\n",
    ")\n",
    "display_table = summary_table[['Method', 'Sample', 'Estimate', '95% CI']]\n",
    "\n",
    "display_table = display_table.copy()\n",
    "display_table['Estimate'] = display_table['Estimate'].apply(lambda x: f\"{x:.3f}\")\n",
    "\n",
    "print(display_table.to_string(index=False))"
   ]
  }
 ],
 "metadata": {
  "kernelspec": {
   "display_name": ".venv",
   "language": "python",
   "name": "python3"
  },
  "language_info": {
   "codemirror_mode": {
    "name": "ipython",
    "version": 3
   },
   "file_extension": ".py",
   "mimetype": "text/x-python",
   "name": "python",
   "nbconvert_exporter": "python",
   "pygments_lexer": "ipython3",
   "version": "3.13.2"
  }
 },
 "nbformat": 4,
 "nbformat_minor": 5
}
